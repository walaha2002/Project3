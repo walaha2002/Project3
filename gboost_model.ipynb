{
 "cells": [
  {
   "cell_type": "code",
   "execution_count": 1,
   "metadata": {},
   "outputs": [],
   "source": [
    "import pandas as pd\n",
    "import matplotlib.pyplot as plt\n",
    "import numpy as np\n",
    "from sklearn import datasets, ensemble\n",
    "from sklearn.inspection import permutation_importance\n",
    "from sklearn.metrics import mean_squared_error\n",
    "from sklearn.model_selection import train_test_split\n",
    "from matplotlib import style\n",
    "style.use(\"ggplot\")"
   ]
  },
  {
   "cell_type": "code",
   "execution_count": 2,
   "metadata": {},
   "outputs": [],
   "source": [
    "nursing_df = pd.read_csv('output_data/model_data.csv')"
   ]
  },
  {
   "cell_type": "code",
   "execution_count": 3,
   "metadata": {
    "scrolled": true
   },
   "outputs": [
    {
     "data": {
      "text/html": [
       "<div>\n",
       "<style scoped>\n",
       "    .dataframe tbody tr th:only-of-type {\n",
       "        vertical-align: middle;\n",
       "    }\n",
       "\n",
       "    .dataframe tbody tr th {\n",
       "        vertical-align: top;\n",
       "    }\n",
       "\n",
       "    .dataframe thead th {\n",
       "        text-align: right;\n",
       "    }\n",
       "</style>\n",
       "<table border=\"1\" class=\"dataframe\">\n",
       "  <thead>\n",
       "    <tr style=\"text-align: right;\">\n",
       "      <th></th>\n",
       "      <th>0</th>\n",
       "      <th>1</th>\n",
       "      <th>2</th>\n",
       "      <th>3</th>\n",
       "      <th>4</th>\n",
       "    </tr>\n",
       "  </thead>\n",
       "  <tbody>\n",
       "    <tr>\n",
       "      <th>Cum GPA</th>\n",
       "      <td>2.84</td>\n",
       "      <td>3.14</td>\n",
       "      <td>3.22</td>\n",
       "      <td>3.29</td>\n",
       "      <td>3.38</td>\n",
       "    </tr>\n",
       "    <tr>\n",
       "      <th>TEAS Count</th>\n",
       "      <td>1</td>\n",
       "      <td>1</td>\n",
       "      <td>1</td>\n",
       "      <td>2</td>\n",
       "      <td>2</td>\n",
       "    </tr>\n",
       "    <tr>\n",
       "      <th>MaxOfTestScore</th>\n",
       "      <td>76</td>\n",
       "      <td>74.7</td>\n",
       "      <td>75.3</td>\n",
       "      <td>77.3</td>\n",
       "      <td>72.7</td>\n",
       "    </tr>\n",
       "    <tr>\n",
       "      <th>failing grade count</th>\n",
       "      <td>0</td>\n",
       "      <td>0</td>\n",
       "      <td>0</td>\n",
       "      <td>0</td>\n",
       "      <td>0</td>\n",
       "    </tr>\n",
       "    <tr>\n",
       "      <th>Time to Test (days)</th>\n",
       "      <td>209</td>\n",
       "      <td>73</td>\n",
       "      <td>84.51</td>\n",
       "      <td>60</td>\n",
       "      <td>80.33</td>\n",
       "    </tr>\n",
       "    <tr>\n",
       "      <th>Completion Time (days)</th>\n",
       "      <td>591</td>\n",
       "      <td>467</td>\n",
       "      <td>578</td>\n",
       "      <td>591</td>\n",
       "      <td>600</td>\n",
       "    </tr>\n",
       "    <tr>\n",
       "      <th>PrecEducDesc</th>\n",
       "      <td>High School/GED/Some College</td>\n",
       "      <td>High School/GED/Some College</td>\n",
       "      <td>High School/GED/Some College</td>\n",
       "      <td>High School/GED/Some College</td>\n",
       "      <td>Associates</td>\n",
       "    </tr>\n",
       "    <tr>\n",
       "      <th>Grade</th>\n",
       "      <td>Pass</td>\n",
       "      <td>Pass</td>\n",
       "      <td>Pass</td>\n",
       "      <td>Fail</td>\n",
       "      <td>Pass</td>\n",
       "    </tr>\n",
       "    <tr>\n",
       "      <th>GradePass</th>\n",
       "      <td>1</td>\n",
       "      <td>1</td>\n",
       "      <td>1</td>\n",
       "      <td>0</td>\n",
       "      <td>1</td>\n",
       "    </tr>\n",
       "    <tr>\n",
       "      <th>HighSchool</th>\n",
       "      <td>1</td>\n",
       "      <td>1</td>\n",
       "      <td>1</td>\n",
       "      <td>1</td>\n",
       "      <td>0</td>\n",
       "    </tr>\n",
       "    <tr>\n",
       "      <th>Assoc</th>\n",
       "      <td>0</td>\n",
       "      <td>0</td>\n",
       "      <td>0</td>\n",
       "      <td>0</td>\n",
       "      <td>1</td>\n",
       "    </tr>\n",
       "    <tr>\n",
       "      <th>Bach</th>\n",
       "      <td>0</td>\n",
       "      <td>0</td>\n",
       "      <td>0</td>\n",
       "      <td>0</td>\n",
       "      <td>0</td>\n",
       "    </tr>\n",
       "    <tr>\n",
       "      <th>Masters</th>\n",
       "      <td>0</td>\n",
       "      <td>0</td>\n",
       "      <td>0</td>\n",
       "      <td>0</td>\n",
       "      <td>0</td>\n",
       "    </tr>\n",
       "  </tbody>\n",
       "</table>\n",
       "</div>"
      ],
      "text/plain": [
       "                                                   0  \\\n",
       "Cum GPA                                         2.84   \n",
       "TEAS Count                                         1   \n",
       "MaxOfTestScore                                    76   \n",
       "failing grade count                                0   \n",
       "Time to Test (days)                              209   \n",
       "Completion Time (days)                           591   \n",
       "PrecEducDesc            High School/GED/Some College   \n",
       "Grade                                           Pass   \n",
       "GradePass                                          1   \n",
       "HighSchool                                         1   \n",
       "Assoc                                              0   \n",
       "Bach                                               0   \n",
       "Masters                                            0   \n",
       "\n",
       "                                                   1  \\\n",
       "Cum GPA                                         3.14   \n",
       "TEAS Count                                         1   \n",
       "MaxOfTestScore                                  74.7   \n",
       "failing grade count                                0   \n",
       "Time to Test (days)                               73   \n",
       "Completion Time (days)                           467   \n",
       "PrecEducDesc            High School/GED/Some College   \n",
       "Grade                                           Pass   \n",
       "GradePass                                          1   \n",
       "HighSchool                                         1   \n",
       "Assoc                                              0   \n",
       "Bach                                               0   \n",
       "Masters                                            0   \n",
       "\n",
       "                                                   2  \\\n",
       "Cum GPA                                         3.22   \n",
       "TEAS Count                                         1   \n",
       "MaxOfTestScore                                  75.3   \n",
       "failing grade count                                0   \n",
       "Time to Test (days)                            84.51   \n",
       "Completion Time (days)                           578   \n",
       "PrecEducDesc            High School/GED/Some College   \n",
       "Grade                                           Pass   \n",
       "GradePass                                          1   \n",
       "HighSchool                                         1   \n",
       "Assoc                                              0   \n",
       "Bach                                               0   \n",
       "Masters                                            0   \n",
       "\n",
       "                                                   3           4  \n",
       "Cum GPA                                         3.29        3.38  \n",
       "TEAS Count                                         2           2  \n",
       "MaxOfTestScore                                  77.3        72.7  \n",
       "failing grade count                                0           0  \n",
       "Time to Test (days)                               60       80.33  \n",
       "Completion Time (days)                           591         600  \n",
       "PrecEducDesc            High School/GED/Some College  Associates  \n",
       "Grade                                           Fail        Pass  \n",
       "GradePass                                          0           1  \n",
       "HighSchool                                         1           0  \n",
       "Assoc                                              0           1  \n",
       "Bach                                               0           0  \n",
       "Masters                                            0           0  "
      ]
     },
     "execution_count": 3,
     "metadata": {},
     "output_type": "execute_result"
    }
   ],
   "source": [
    "nursing_df.head().T"
   ]
  },
  {
   "cell_type": "code",
   "execution_count": 80,
   "metadata": {},
   "outputs": [],
   "source": [
    "params = {'n_estimators': 50000,\n",
    "          'max_depth': 4,\n",
    "          'min_samples_split': 5,\n",
    "          'learning_rate': 0.001}\n",
    "reg = ensemble.GradientBoostingClassifier(**params)"
   ]
  },
  {
   "cell_type": "code",
   "execution_count": 81,
   "metadata": {},
   "outputs": [
    {
     "data": {
      "text/plain": [
       "898"
      ]
     },
     "execution_count": 81,
     "metadata": {},
     "output_type": "execute_result"
    }
   ],
   "source": [
    "nursing_df_pass = nursing_df[nursing_df[\"GradePass\"]== 1]\n",
    "len(nursing_df_pass)"
   ]
  },
  {
   "cell_type": "code",
   "execution_count": 82,
   "metadata": {},
   "outputs": [
    {
     "data": {
      "text/plain": [
       "327"
      ]
     },
     "execution_count": 82,
     "metadata": {},
     "output_type": "execute_result"
    }
   ],
   "source": [
    "nursing_df_fail = nursing_df[nursing_df[\"GradePass\"] != 1]\n",
    "len(nursing_df_fail)"
   ]
  },
  {
   "cell_type": "code",
   "execution_count": 83,
   "metadata": {},
   "outputs": [
    {
     "data": {
      "text/plain": [
       "654"
      ]
     },
     "execution_count": 83,
     "metadata": {},
     "output_type": "execute_result"
    }
   ],
   "source": [
    "new_data = pd.concat([nursing_df_fail ,nursing_df_pass.sample(n=len(nursing_df_fail)) ],copy=True,ignore_index=True)\n",
    "len(new_data)"
   ]
  },
  {
   "cell_type": "code",
   "execution_count": null,
   "metadata": {},
   "outputs": [],
   "source": []
  },
  {
   "cell_type": "code",
   "execution_count": null,
   "metadata": {},
   "outputs": [],
   "source": []
  },
  {
   "cell_type": "code",
   "execution_count": 84,
   "metadata": {},
   "outputs": [],
   "source": [
    "data = new_data.values\n",
    "X = data[:, 0:6]\n",
    "y = data[:, 6]"
   ]
  },
  {
   "cell_type": "code",
   "execution_count": 85,
   "metadata": {},
   "outputs": [
    {
     "data": {
      "text/plain": [
       "High School/GED/Some College    557\n",
       "Bachelors                        60\n",
       "Associates                       31\n",
       "Masters                           6\n",
       "dtype: int64"
      ]
     },
     "execution_count": 85,
     "metadata": {},
     "output_type": "execute_result"
    }
   ],
   "source": [
    "pd.value_counts(y)"
   ]
  },
  {
   "cell_type": "code",
   "execution_count": 86,
   "metadata": {},
   "outputs": [
    {
     "name": "stdout",
     "output_type": "stream",
     "text": [
      "(654, 10) (654,)\n"
     ]
    }
   ],
   "source": [
    "#load in the data\n",
    "# Assign the data to X and y\n",
    "\n",
    "X = new_data[[\"Cum GPA\", \"TEAS Count\",\"MaxOfTestScore\",\"failing grade count\",\"Time to Test (days)\",\"Completion Time (days)\",\n",
    "        \"HighSchool\", \"Assoc\",\"Bach\",\"Masters\"]]\n",
    "\n",
    "y = new_data[\"GradePass\"].values#.reshape(-1, 1)\n",
    "print(X.shape, y.shape)"
   ]
  },
  {
   "cell_type": "code",
   "execution_count": 87,
   "metadata": {},
   "outputs": [],
   "source": [
    "#split the data into training bit\n",
    "\n",
    "X_train, X_test, y_train, y_test = train_test_split(\n",
    "    X, y, test_size=0.1, random_state=13)\n"
   ]
  },
  {
   "cell_type": "code",
   "execution_count": 88,
   "metadata": {},
   "outputs": [
    {
     "name": "stdout",
     "output_type": "stream",
     "text": [
      "The mean squared error (MSE) on test set: 0.3485\n"
     ]
    }
   ],
   "source": [
    "#fit the regression model\n",
    "\n",
    "reg = ensemble.GradientBoostingClassifier(**params)\n",
    "reg.fit(X_train, y_train)\n",
    "\n",
    "mse = mean_squared_error(y_test, reg.predict(X_test))\n",
    "print(\"The mean squared error (MSE) on test set: {:.4f}\".format(mse))"
   ]
  },
  {
   "cell_type": "code",
   "execution_count": 89,
   "metadata": {},
   "outputs": [
    {
     "data": {
      "image/png": "[encoded data removed]",
      "text/plain": [
       "<Figure size 432x432 with 1 Axes>"
      ]
     },
     "metadata": {},
     "output_type": "display_data"
    }
   ],
   "source": [
    "#plot training deviance and plot results\n",
    "\n",
    "test_score = np.zeros((params['n_estimators'],), dtype=np.float64)\n",
    "for i, y_pred in enumerate(reg.staged_predict(X_test)):\n",
    "    test_score[i] = reg.loss_(y_test, y_pred)\n",
    "\n",
    "fig = plt.figure(figsize=(6, 6))\n",
    "plt.subplot(1, 1, 1)\n",
    "plt.title('Deviance')\n",
    "plt.plot(np.arange(params['n_estimators']) + 1, reg.train_score_, 'b-',\n",
    "         label='Training Set Deviance')\n",
    "plt.plot(np.arange(params['n_estimators']) + 1, test_score, 'r-',\n",
    "         label='Test Set Deviance')\n",
    "plt.legend(loc='upper right')\n",
    "plt.xlabel('Boosting Iterations')\n",
    "plt.ylabel('Deviance')\n",
    "fig.tight_layout()\n",
    "plt.show()"
   ]
  },
  {
   "cell_type": "code",
   "execution_count": 90,
   "metadata": {},
   "outputs": [
    {
     "data": {
      "text/html": [
       "<div>\n",
       "<style scoped>\n",
       "    .dataframe tbody tr th:only-of-type {\n",
       "        vertical-align: middle;\n",
       "    }\n",
       "\n",
       "    .dataframe tbody tr th {\n",
       "        vertical-align: top;\n",
       "    }\n",
       "\n",
       "    .dataframe thead th {\n",
       "        text-align: right;\n",
       "    }\n",
       "</style>\n",
       "<table border=\"1\" class=\"dataframe\">\n",
       "  <thead>\n",
       "    <tr style=\"text-align: right;\">\n",
       "      <th></th>\n",
       "      <th>Cum GPA</th>\n",
       "      <th>TEAS Count</th>\n",
       "      <th>MaxOfTestScore</th>\n",
       "      <th>failing grade count</th>\n",
       "      <th>Time to Test (days)</th>\n",
       "      <th>Completion Time (days)</th>\n",
       "      <th>HighSchool</th>\n",
       "      <th>Assoc</th>\n",
       "      <th>Bach</th>\n",
       "      <th>Masters</th>\n",
       "    </tr>\n",
       "  </thead>\n",
       "  <tbody>\n",
       "    <tr>\n",
       "      <th>0</th>\n",
       "      <td>3.29</td>\n",
       "      <td>2.0</td>\n",
       "      <td>77.3</td>\n",
       "      <td>0</td>\n",
       "      <td>60.00</td>\n",
       "      <td>591.0</td>\n",
       "      <td>1.0</td>\n",
       "      <td>0.0</td>\n",
       "      <td>0.0</td>\n",
       "      <td>0.0</td>\n",
       "    </tr>\n",
       "    <tr>\n",
       "      <th>1</th>\n",
       "      <td>2.78</td>\n",
       "      <td>2.0</td>\n",
       "      <td>74.0</td>\n",
       "      <td>0</td>\n",
       "      <td>369.00</td>\n",
       "      <td>465.0</td>\n",
       "      <td>1.0</td>\n",
       "      <td>0.0</td>\n",
       "      <td>0.0</td>\n",
       "      <td>0.0</td>\n",
       "    </tr>\n",
       "    <tr>\n",
       "      <th>2</th>\n",
       "      <td>2.79</td>\n",
       "      <td>3.0</td>\n",
       "      <td>74.0</td>\n",
       "      <td>0</td>\n",
       "      <td>116.00</td>\n",
       "      <td>591.0</td>\n",
       "      <td>1.0</td>\n",
       "      <td>0.0</td>\n",
       "      <td>0.0</td>\n",
       "      <td>0.0</td>\n",
       "    </tr>\n",
       "    <tr>\n",
       "      <th>3</th>\n",
       "      <td>3.27</td>\n",
       "      <td>2.0</td>\n",
       "      <td>68.7</td>\n",
       "      <td>1</td>\n",
       "      <td>124.58</td>\n",
       "      <td>578.0</td>\n",
       "      <td>0.0</td>\n",
       "      <td>1.0</td>\n",
       "      <td>0.0</td>\n",
       "      <td>0.0</td>\n",
       "    </tr>\n",
       "    <tr>\n",
       "      <th>4</th>\n",
       "      <td>2.76</td>\n",
       "      <td>2.0</td>\n",
       "      <td>73.3</td>\n",
       "      <td>0</td>\n",
       "      <td>158.00</td>\n",
       "      <td>460.0</td>\n",
       "      <td>1.0</td>\n",
       "      <td>0.0</td>\n",
       "      <td>0.0</td>\n",
       "      <td>0.0</td>\n",
       "    </tr>\n",
       "  </tbody>\n",
       "</table>\n",
       "</div>"
      ],
      "text/plain": [
       "   Cum GPA  TEAS Count  MaxOfTestScore  failing grade count  \\\n",
       "0     3.29         2.0            77.3                    0   \n",
       "1     2.78         2.0            74.0                    0   \n",
       "2     2.79         3.0            74.0                    0   \n",
       "3     3.27         2.0            68.7                    1   \n",
       "4     2.76         2.0            73.3                    0   \n",
       "\n",
       "   Time to Test (days)  Completion Time (days)  HighSchool  Assoc  Bach  \\\n",
       "0                60.00                   591.0         1.0    0.0   0.0   \n",
       "1               369.00                   465.0         1.0    0.0   0.0   \n",
       "2               116.00                   591.0         1.0    0.0   0.0   \n",
       "3               124.58                   578.0         0.0    1.0   0.0   \n",
       "4               158.00                   460.0         1.0    0.0   0.0   \n",
       "\n",
       "   Masters  \n",
       "0      0.0  \n",
       "1      0.0  \n",
       "2      0.0  \n",
       "3      0.0  \n",
       "4      0.0  "
      ]
     },
     "execution_count": 90,
     "metadata": {},
     "output_type": "execute_result"
    }
   ],
   "source": [
    "data_df = X\n",
    "data_df.head()"
   ]
  },
  {
   "cell_type": "code",
   "execution_count": 91,
   "metadata": {},
   "outputs": [
    {
     "data": {
      "image/png": "[encoded data removed]",
      "text/plain": [
       "<Figure size 864x432 with 2 Axes>"
      ]
     },
     "metadata": {},
     "output_type": "display_data"
    }
   ],
   "source": [
    "#plot feature importance\n",
    "\n",
    "feature_importance = reg.feature_importances_\n",
    "sorted_idx = np.argsort(feature_importance)\n",
    "pos = np.arange(sorted_idx.shape[0]) + .5\n",
    "fig = plt.figure(figsize=(12, 6))\n",
    "plt.subplot(1, 2, 1)\n",
    "plt.barh(pos, feature_importance[sorted_idx], align='center')\n",
    "plt.yticks(pos, data_df.columns[sorted_idx])\n",
    "plt.title('Feature Importance (MDI)')\n",
    "\n",
    "result = permutation_importance(reg, X_test, y_test, n_repeats=10,\n",
    "                                random_state=42, n_jobs=2)\n",
    "sorted_idx = result.importances_mean.argsort()\n",
    "plt.subplot(1, 2, 2)\n",
    "plt.boxplot(result.importances[sorted_idx].T,\n",
    "            vert=False, labels= data_df.columns[sorted_idx])\n",
    "plt.title(\"Permutation Importance (test set)\")\n",
    "fig.tight_layout()\n",
    "plt.show()"
   ]
  },
  {
   "cell_type": "code",
   "execution_count": null,
   "metadata": {},
   "outputs": [],
   "source": []
  },
  {
   "cell_type": "code",
   "execution_count": 92,
   "metadata": {
    "scrolled": true
   },
   "outputs": [
    {
     "data": {
      "text/plain": [
       "array([0., 0., 0., 0., 1., 0., 1., 1., 0., 1., 0., 0., 1., 0., 0., 0., 1.,\n",
       "       0., 0., 0., 1., 0., 0., 1., 1., 1., 1., 1., 0., 0., 0., 0., 0., 0.,\n",
       "       0., 1., 0., 1., 1., 0., 0., 1., 1., 1., 1., 0., 1., 0., 1., 0., 1.,\n",
       "       1., 0., 1., 0., 1., 1., 0., 1., 1., 0., 1., 0., 0., 1., 0.])"
      ]
     },
     "execution_count": 92,
     "metadata": {},
     "output_type": "execute_result"
    }
   ],
   "source": [
    "y_predict = reg.predict(X_test)\n",
    "y_predict"
   ]
  },
  {
   "cell_type": "code",
   "execution_count": 93,
   "metadata": {},
   "outputs": [
    {
     "data": {
      "text/plain": [
       "array([0., 0., 0., 0., 0., 0., 0., 1., 1., 1., 0., 0., 0., 0., 1., 0., 1.,\n",
       "       1., 0., 0., 1., 1., 0., 1., 0., 0., 1., 1., 1., 0., 1., 0., 0., 1.,\n",
       "       0., 1., 1., 1., 0., 0., 0., 0., 1., 0., 1., 0., 0., 0., 0., 0., 0.,\n",
       "       1., 0., 0., 1., 1., 1., 0., 1., 1., 0., 0., 0., 0., 1., 1.])"
      ]
     },
     "execution_count": 93,
     "metadata": {},
     "output_type": "execute_result"
    }
   ],
   "source": [
    "y_test"
   ]
  },
  {
   "cell_type": "code",
   "execution_count": 94,
   "metadata": {},
   "outputs": [
    {
     "name": "stdout",
     "output_type": "stream",
     "text": [
      "              precision    recall  f1-score   support\n",
      "\n",
      "         0.0       0.72      0.67      0.69        39\n",
      "         1.0       0.57      0.63      0.60        27\n",
      "\n",
      "    accuracy                           0.65        66\n",
      "   macro avg       0.64      0.65      0.64        66\n",
      "weighted avg       0.66      0.65      0.65        66\n",
      "\n"
     ]
    }
   ],
   "source": [
    " # Calculate classification report\n",
    "from sklearn.metrics import classification_report\n",
    "print(classification_report(y_test, reg.predict(X_test)))"
   ]
  },
  {
   "cell_type": "code",
   "execution_count": null,
   "metadata": {},
   "outputs": [],
   "source": []
  },
  {
   "cell_type": "code",
   "execution_count": null,
   "metadata": {},
   "outputs": [],
   "source": []
  },
  {
   "cell_type": "code",
   "execution_count": null,
   "metadata": {},
   "outputs": [],
   "source": []
  },
  {
   "cell_type": "code",
   "execution_count": null,
   "metadata": {},
   "outputs": [],
   "source": []
  }
 ],
 "metadata": {
  "kernelspec": {
   "display_name": "Python 3",
   "language": "python",
   "name": "python3"
  },
  "language_info": {
   "codemirror_mode": {
    "name": "ipython",
    "version": 3
   },
   "file_extension": ".py",
   "mimetype": "text/x-python",
   "name": "python",
   "nbconvert_exporter": "python",
   "pygments_lexer": "ipython3",
   "version": "3.7.6"
  }
 },
 "nbformat": 4,
 "nbformat_minor": 5
}
