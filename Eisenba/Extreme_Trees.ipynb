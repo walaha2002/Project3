{
 "cells": [
  {
   "cell_type": "code",
   "execution_count": 1,
   "metadata": {},
   "outputs": [],
   "source": [
    "from sklearn.model_selection import cross_val_score\n",
    ">>> from sklearn.ensemble import RandomForestClassifier\n",
    ">>> from sklearn.ensemble import ExtraTreesClassifier\n",
    ">>> from sklearn.tree import DecisionTreeClassifier\n",
    "from sklearn.inspection import permutation_importance\n",
    "from sklearn import tree\n",
    "import pandas as pd\n",
    "import numpy as np\n",
    "import matplotlib.pyplot as plt"
   ]
  },
  {
   "cell_type": "code",
   "execution_count": 2,
   "metadata": {
    "scrolled": true
   },
   "outputs": [
    {
     "data": {
      "text/html": [
       "<div>\n",
       "<style scoped>\n",
       "    .dataframe tbody tr th:only-of-type {\n",
       "        vertical-align: middle;\n",
       "    }\n",
       "\n",
       "    .dataframe tbody tr th {\n",
       "        vertical-align: top;\n",
       "    }\n",
       "\n",
       "    .dataframe thead th {\n",
       "        text-align: right;\n",
       "    }\n",
       "</style>\n",
       "<table border=\"1\" class=\"dataframe\">\n",
       "  <thead>\n",
       "    <tr style=\"text-align: right;\">\n",
       "      <th></th>\n",
       "      <th>Cum GPA</th>\n",
       "      <th>TEAS Count</th>\n",
       "      <th>MaxOfTestScore</th>\n",
       "      <th>failing grade count</th>\n",
       "      <th>Time to Test (days)</th>\n",
       "      <th>Completion Time (days)</th>\n",
       "      <th>PrecEducDesc</th>\n",
       "      <th>Grade</th>\n",
       "      <th>GradePass</th>\n",
       "      <th>HighSchool</th>\n",
       "      <th>Assoc</th>\n",
       "      <th>Bach</th>\n",
       "      <th>Masters</th>\n",
       "    </tr>\n",
       "  </thead>\n",
       "  <tbody>\n",
       "    <tr>\n",
       "      <th>0</th>\n",
       "      <td>2.84</td>\n",
       "      <td>1.0</td>\n",
       "      <td>76.0</td>\n",
       "      <td>0</td>\n",
       "      <td>209.00</td>\n",
       "      <td>591.0</td>\n",
       "      <td>High School/GED/Some College</td>\n",
       "      <td>Pass</td>\n",
       "      <td>1.0</td>\n",
       "      <td>1.0</td>\n",
       "      <td>0.0</td>\n",
       "      <td>0.0</td>\n",
       "      <td>0.0</td>\n",
       "    </tr>\n",
       "    <tr>\n",
       "      <th>1</th>\n",
       "      <td>3.14</td>\n",
       "      <td>1.0</td>\n",
       "      <td>74.7</td>\n",
       "      <td>0</td>\n",
       "      <td>73.00</td>\n",
       "      <td>467.0</td>\n",
       "      <td>High School/GED/Some College</td>\n",
       "      <td>Pass</td>\n",
       "      <td>1.0</td>\n",
       "      <td>1.0</td>\n",
       "      <td>0.0</td>\n",
       "      <td>0.0</td>\n",
       "      <td>0.0</td>\n",
       "    </tr>\n",
       "    <tr>\n",
       "      <th>2</th>\n",
       "      <td>3.22</td>\n",
       "      <td>1.0</td>\n",
       "      <td>75.3</td>\n",
       "      <td>0</td>\n",
       "      <td>84.51</td>\n",
       "      <td>578.0</td>\n",
       "      <td>High School/GED/Some College</td>\n",
       "      <td>Pass</td>\n",
       "      <td>1.0</td>\n",
       "      <td>1.0</td>\n",
       "      <td>0.0</td>\n",
       "      <td>0.0</td>\n",
       "      <td>0.0</td>\n",
       "    </tr>\n",
       "    <tr>\n",
       "      <th>3</th>\n",
       "      <td>3.29</td>\n",
       "      <td>2.0</td>\n",
       "      <td>77.3</td>\n",
       "      <td>0</td>\n",
       "      <td>60.00</td>\n",
       "      <td>591.0</td>\n",
       "      <td>High School/GED/Some College</td>\n",
       "      <td>Fail</td>\n",
       "      <td>0.0</td>\n",
       "      <td>1.0</td>\n",
       "      <td>0.0</td>\n",
       "      <td>0.0</td>\n",
       "      <td>0.0</td>\n",
       "    </tr>\n",
       "    <tr>\n",
       "      <th>4</th>\n",
       "      <td>3.38</td>\n",
       "      <td>2.0</td>\n",
       "      <td>72.7</td>\n",
       "      <td>0</td>\n",
       "      <td>80.33</td>\n",
       "      <td>600.0</td>\n",
       "      <td>Associates</td>\n",
       "      <td>Pass</td>\n",
       "      <td>1.0</td>\n",
       "      <td>0.0</td>\n",
       "      <td>1.0</td>\n",
       "      <td>0.0</td>\n",
       "      <td>0.0</td>\n",
       "    </tr>\n",
       "  </tbody>\n",
       "</table>\n",
       "</div>"
      ],
      "text/plain": [
       "   Cum GPA  TEAS Count  MaxOfTestScore  failing grade count  \\\n",
       "0     2.84         1.0            76.0                    0   \n",
       "1     3.14         1.0            74.7                    0   \n",
       "2     3.22         1.0            75.3                    0   \n",
       "3     3.29         2.0            77.3                    0   \n",
       "4     3.38         2.0            72.7                    0   \n",
       "\n",
       "   Time to Test (days)  Completion Time (days)                  PrecEducDesc  \\\n",
       "0               209.00                   591.0  High School/GED/Some College   \n",
       "1                73.00                   467.0  High School/GED/Some College   \n",
       "2                84.51                   578.0  High School/GED/Some College   \n",
       "3                60.00                   591.0  High School/GED/Some College   \n",
       "4                80.33                   600.0                    Associates   \n",
       "\n",
       "  Grade  GradePass  HighSchool  Assoc  Bach  Masters  \n",
       "0  Pass        1.0         1.0    0.0   0.0      0.0  \n",
       "1  Pass        1.0         1.0    0.0   0.0      0.0  \n",
       "2  Pass        1.0         1.0    0.0   0.0      0.0  \n",
       "3  Fail        0.0         1.0    0.0   0.0      0.0  \n",
       "4  Pass        1.0         0.0    1.0   0.0      0.0  "
      ]
     },
     "execution_count": 2,
     "metadata": {},
     "output_type": "execute_result"
    }
   ],
   "source": [
    "nurse_df = pd.read_csv('../output_data/model_data.csv')\n",
    "nurse_df.head()"
   ]
  },
  {
   "cell_type": "code",
   "execution_count": 3,
   "metadata": {},
   "outputs": [
    {
     "data": {
      "text/html": [
       "<div>\n",
       "<style scoped>\n",
       "    .dataframe tbody tr th:only-of-type {\n",
       "        vertical-align: middle;\n",
       "    }\n",
       "\n",
       "    .dataframe tbody tr th {\n",
       "        vertical-align: top;\n",
       "    }\n",
       "\n",
       "    .dataframe thead th {\n",
       "        text-align: right;\n",
       "    }\n",
       "</style>\n",
       "<table border=\"1\" class=\"dataframe\">\n",
       "  <thead>\n",
       "    <tr style=\"text-align: right;\">\n",
       "      <th></th>\n",
       "      <th>Cum GPA</th>\n",
       "      <th>TEAS Count</th>\n",
       "      <th>MaxOfTestScore</th>\n",
       "      <th>failing grade count</th>\n",
       "      <th>Time to Test (days)</th>\n",
       "      <th>Completion Time (days)</th>\n",
       "      <th>GradePass</th>\n",
       "      <th>HighSchool</th>\n",
       "      <th>Assoc</th>\n",
       "      <th>Bach</th>\n",
       "      <th>Masters</th>\n",
       "    </tr>\n",
       "  </thead>\n",
       "  <tbody>\n",
       "    <tr>\n",
       "      <th>0</th>\n",
       "      <td>2.84</td>\n",
       "      <td>1.0</td>\n",
       "      <td>76.0</td>\n",
       "      <td>0</td>\n",
       "      <td>209.00</td>\n",
       "      <td>591.0</td>\n",
       "      <td>1.0</td>\n",
       "      <td>1.0</td>\n",
       "      <td>0.0</td>\n",
       "      <td>0.0</td>\n",
       "      <td>0.0</td>\n",
       "    </tr>\n",
       "    <tr>\n",
       "      <th>1</th>\n",
       "      <td>3.14</td>\n",
       "      <td>1.0</td>\n",
       "      <td>74.7</td>\n",
       "      <td>0</td>\n",
       "      <td>73.00</td>\n",
       "      <td>467.0</td>\n",
       "      <td>1.0</td>\n",
       "      <td>1.0</td>\n",
       "      <td>0.0</td>\n",
       "      <td>0.0</td>\n",
       "      <td>0.0</td>\n",
       "    </tr>\n",
       "    <tr>\n",
       "      <th>2</th>\n",
       "      <td>3.22</td>\n",
       "      <td>1.0</td>\n",
       "      <td>75.3</td>\n",
       "      <td>0</td>\n",
       "      <td>84.51</td>\n",
       "      <td>578.0</td>\n",
       "      <td>1.0</td>\n",
       "      <td>1.0</td>\n",
       "      <td>0.0</td>\n",
       "      <td>0.0</td>\n",
       "      <td>0.0</td>\n",
       "    </tr>\n",
       "    <tr>\n",
       "      <th>3</th>\n",
       "      <td>3.29</td>\n",
       "      <td>2.0</td>\n",
       "      <td>77.3</td>\n",
       "      <td>0</td>\n",
       "      <td>60.00</td>\n",
       "      <td>591.0</td>\n",
       "      <td>0.0</td>\n",
       "      <td>1.0</td>\n",
       "      <td>0.0</td>\n",
       "      <td>0.0</td>\n",
       "      <td>0.0</td>\n",
       "    </tr>\n",
       "    <tr>\n",
       "      <th>4</th>\n",
       "      <td>3.38</td>\n",
       "      <td>2.0</td>\n",
       "      <td>72.7</td>\n",
       "      <td>0</td>\n",
       "      <td>80.33</td>\n",
       "      <td>600.0</td>\n",
       "      <td>1.0</td>\n",
       "      <td>0.0</td>\n",
       "      <td>1.0</td>\n",
       "      <td>0.0</td>\n",
       "      <td>0.0</td>\n",
       "    </tr>\n",
       "  </tbody>\n",
       "</table>\n",
       "</div>"
      ],
      "text/plain": [
       "   Cum GPA  TEAS Count  MaxOfTestScore  failing grade count  \\\n",
       "0     2.84         1.0            76.0                    0   \n",
       "1     3.14         1.0            74.7                    0   \n",
       "2     3.22         1.0            75.3                    0   \n",
       "3     3.29         2.0            77.3                    0   \n",
       "4     3.38         2.0            72.7                    0   \n",
       "\n",
       "   Time to Test (days)  Completion Time (days)  GradePass  HighSchool  Assoc  \\\n",
       "0               209.00                   591.0        1.0         1.0    0.0   \n",
       "1                73.00                   467.0        1.0         1.0    0.0   \n",
       "2                84.51                   578.0        1.0         1.0    0.0   \n",
       "3                60.00                   591.0        0.0         1.0    0.0   \n",
       "4                80.33                   600.0        1.0         0.0    1.0   \n",
       "\n",
       "   Bach  Masters  \n",
       "0   0.0      0.0  \n",
       "1   0.0      0.0  \n",
       "2   0.0      0.0  \n",
       "3   0.0      0.0  \n",
       "4   0.0      0.0  "
      ]
     },
     "execution_count": 3,
     "metadata": {},
     "output_type": "execute_result"
    }
   ],
   "source": [
    "nurses_df = nurse_df.drop(['PrecEducDesc', 'Grade'], axis=1)\n",
    "nurses_df.head()"
   ]
  },
  {
   "cell_type": "code",
   "execution_count": 4,
   "metadata": {},
   "outputs": [
    {
     "data": {
      "text/plain": [
       "898"
      ]
     },
     "execution_count": 4,
     "metadata": {},
     "output_type": "execute_result"
    }
   ],
   "source": [
    "nurses_df_pass = nurses_df[nurses_df[\"GradePass\"]== 1]\n",
    "len(nurses_df_pass)"
   ]
  },
  {
   "cell_type": "code",
   "execution_count": 5,
   "metadata": {},
   "outputs": [
    {
     "data": {
      "text/plain": [
       "327"
      ]
     },
     "execution_count": 5,
     "metadata": {},
     "output_type": "execute_result"
    }
   ],
   "source": [
    "nurses_df_fail = nurses_df[nurses_df[\"GradePass\"] != 1]\n",
    "len(nurses_df_fail)"
   ]
  },
  {
   "cell_type": "code",
   "execution_count": 6,
   "metadata": {},
   "outputs": [
    {
     "data": {
      "text/plain": [
       "654"
      ]
     },
     "execution_count": 6,
     "metadata": {},
     "output_type": "execute_result"
    }
   ],
   "source": [
    "new_data = pd.concat([nurses_df_fail ,nurses_df_pass.sample(n=len(nurses_df_fail)) ],copy=True,ignore_index=True)\n",
    "len(new_data)"
   ]
  },
  {
   "cell_type": "code",
   "execution_count": 7,
   "metadata": {},
   "outputs": [
    {
     "data": {
      "text/plain": [
       "0      0.0\n",
       "1      0.0\n",
       "2      0.0\n",
       "3      0.0\n",
       "4      0.0\n",
       "      ... \n",
       "649    1.0\n",
       "650    1.0\n",
       "651    1.0\n",
       "652    1.0\n",
       "653    1.0\n",
       "Name: GradePass, Length: 654, dtype: float64"
      ]
     },
     "execution_count": 7,
     "metadata": {},
     "output_type": "execute_result"
    }
   ],
   "source": [
    "target = new_data[\"GradePass\"]\n",
    "target_names = [\"negative\", \"positive\"]\n",
    "target"
   ]
  },
  {
   "cell_type": "code",
   "execution_count": 8,
   "metadata": {},
   "outputs": [
    {
     "data": {
      "text/html": [
       "<div>\n",
       "<style scoped>\n",
       "    .dataframe tbody tr th:only-of-type {\n",
       "        vertical-align: middle;\n",
       "    }\n",
       "\n",
       "    .dataframe tbody tr th {\n",
       "        vertical-align: top;\n",
       "    }\n",
       "\n",
       "    .dataframe thead th {\n",
       "        text-align: right;\n",
       "    }\n",
       "</style>\n",
       "<table border=\"1\" class=\"dataframe\">\n",
       "  <thead>\n",
       "    <tr style=\"text-align: right;\">\n",
       "      <th></th>\n",
       "      <th>Cum GPA</th>\n",
       "      <th>TEAS Count</th>\n",
       "      <th>MaxOfTestScore</th>\n",
       "      <th>failing grade count</th>\n",
       "      <th>Time to Test (days)</th>\n",
       "      <th>Completion Time (days)</th>\n",
       "      <th>HighSchool</th>\n",
       "      <th>Assoc</th>\n",
       "      <th>Bach</th>\n",
       "      <th>Masters</th>\n",
       "    </tr>\n",
       "  </thead>\n",
       "  <tbody>\n",
       "    <tr>\n",
       "      <th>0</th>\n",
       "      <td>3.29</td>\n",
       "      <td>2.0</td>\n",
       "      <td>77.3</td>\n",
       "      <td>0</td>\n",
       "      <td>60.00</td>\n",
       "      <td>591.0</td>\n",
       "      <td>1.0</td>\n",
       "      <td>0.0</td>\n",
       "      <td>0.0</td>\n",
       "      <td>0.0</td>\n",
       "    </tr>\n",
       "    <tr>\n",
       "      <th>1</th>\n",
       "      <td>2.78</td>\n",
       "      <td>2.0</td>\n",
       "      <td>74.0</td>\n",
       "      <td>0</td>\n",
       "      <td>369.00</td>\n",
       "      <td>465.0</td>\n",
       "      <td>1.0</td>\n",
       "      <td>0.0</td>\n",
       "      <td>0.0</td>\n",
       "      <td>0.0</td>\n",
       "    </tr>\n",
       "    <tr>\n",
       "      <th>2</th>\n",
       "      <td>2.79</td>\n",
       "      <td>3.0</td>\n",
       "      <td>74.0</td>\n",
       "      <td>0</td>\n",
       "      <td>116.00</td>\n",
       "      <td>591.0</td>\n",
       "      <td>1.0</td>\n",
       "      <td>0.0</td>\n",
       "      <td>0.0</td>\n",
       "      <td>0.0</td>\n",
       "    </tr>\n",
       "    <tr>\n",
       "      <th>3</th>\n",
       "      <td>3.27</td>\n",
       "      <td>2.0</td>\n",
       "      <td>68.7</td>\n",
       "      <td>1</td>\n",
       "      <td>124.58</td>\n",
       "      <td>578.0</td>\n",
       "      <td>0.0</td>\n",
       "      <td>1.0</td>\n",
       "      <td>0.0</td>\n",
       "      <td>0.0</td>\n",
       "    </tr>\n",
       "    <tr>\n",
       "      <th>4</th>\n",
       "      <td>2.76</td>\n",
       "      <td>2.0</td>\n",
       "      <td>73.3</td>\n",
       "      <td>0</td>\n",
       "      <td>158.00</td>\n",
       "      <td>460.0</td>\n",
       "      <td>1.0</td>\n",
       "      <td>0.0</td>\n",
       "      <td>0.0</td>\n",
       "      <td>0.0</td>\n",
       "    </tr>\n",
       "  </tbody>\n",
       "</table>\n",
       "</div>"
      ],
      "text/plain": [
       "   Cum GPA  TEAS Count  MaxOfTestScore  failing grade count  \\\n",
       "0     3.29         2.0            77.3                    0   \n",
       "1     2.78         2.0            74.0                    0   \n",
       "2     2.79         3.0            74.0                    0   \n",
       "3     3.27         2.0            68.7                    1   \n",
       "4     2.76         2.0            73.3                    0   \n",
       "\n",
       "   Time to Test (days)  Completion Time (days)  HighSchool  Assoc  Bach  \\\n",
       "0                60.00                   591.0         1.0    0.0   0.0   \n",
       "1               369.00                   465.0         1.0    0.0   0.0   \n",
       "2               116.00                   591.0         1.0    0.0   0.0   \n",
       "3               124.58                   578.0         0.0    1.0   0.0   \n",
       "4               158.00                   460.0         1.0    0.0   0.0   \n",
       "\n",
       "   Masters  \n",
       "0      0.0  \n",
       "1      0.0  \n",
       "2      0.0  \n",
       "3      0.0  \n",
       "4      0.0  "
      ]
     },
     "execution_count": 8,
     "metadata": {},
     "output_type": "execute_result"
    }
   ],
   "source": [
    "data = new_data.drop(\"GradePass\", axis=1)\n",
    "feature_names = data.columns\n",
    "data.head()"
   ]
  },
  {
   "cell_type": "code",
   "execution_count": 9,
   "metadata": {},
   "outputs": [],
   "source": [
    "from sklearn.model_selection import train_test_split\n",
    "X_train, X_test, y_train, y_test = train_test_split(data, target)"
   ]
  },
  {
   "cell_type": "code",
   "execution_count": 10,
   "metadata": {},
   "outputs": [
    {
     "data": {
      "text/plain": [
       "0.7378048780487805"
      ]
     },
     "execution_count": 10,
     "metadata": {},
     "output_type": "execute_result"
    }
   ],
   "source": [
    "rf = ExtraTreesClassifier(n_estimators=2000, max_depth=4)\n",
    "rf = rf.fit(X_train, y_train)\n",
    "rf.score(X_test, y_test)"
   ]
  },
  {
   "cell_type": "code",
   "execution_count": 11,
   "metadata": {},
   "outputs": [
    {
     "data": {
      "text/plain": [
       "[(0.4842391739963878, 'Cum GPA'),\n",
       " (0.1240829316884777, 'MaxOfTestScore'),\n",
       " (0.11362197343425874, 'failing grade count'),\n",
       " (0.09871363649047273, 'Completion Time (days)'),\n",
       " (0.07752927533112694, 'Time to Test (days)'),\n",
       " (0.06311955070027417, 'TEAS Count'),\n",
       " (0.021012269064128855, 'Bach'),\n",
       " (0.007856558568361443, 'HighSchool'),\n",
       " (0.007359516479601116, 'Assoc'),\n",
       " (0.002465114246910323, 'Masters')]"
      ]
     },
     "execution_count": 11,
     "metadata": {},
     "output_type": "execute_result"
    }
   ],
   "source": [
    "sorted(zip(rf.feature_importances_, feature_names), reverse=True)"
   ]
  },
  {
   "cell_type": "code",
   "execution_count": 12,
   "metadata": {},
   "outputs": [
    {
     "data": {
      "text/html": [
       "<div>\n",
       "<style scoped>\n",
       "    .dataframe tbody tr th:only-of-type {\n",
       "        vertical-align: middle;\n",
       "    }\n",
       "\n",
       "    .dataframe tbody tr th {\n",
       "        vertical-align: top;\n",
       "    }\n",
       "\n",
       "    .dataframe thead th {\n",
       "        text-align: right;\n",
       "    }\n",
       "</style>\n",
       "<table border=\"1\" class=\"dataframe\">\n",
       "  <thead>\n",
       "    <tr style=\"text-align: right;\">\n",
       "      <th></th>\n",
       "      <th>0</th>\n",
       "      <th>1</th>\n",
       "      <th>2</th>\n",
       "      <th>3</th>\n",
       "      <th>4</th>\n",
       "      <th>5</th>\n",
       "      <th>6</th>\n",
       "      <th>7</th>\n",
       "      <th>8</th>\n",
       "      <th>9</th>\n",
       "      <th>10</th>\n",
       "    </tr>\n",
       "  </thead>\n",
       "  <tbody>\n",
       "    <tr>\n",
       "      <th>0</th>\n",
       "      <td>3.29</td>\n",
       "      <td>2.0</td>\n",
       "      <td>77.3</td>\n",
       "      <td>0.0</td>\n",
       "      <td>60.00</td>\n",
       "      <td>591.0</td>\n",
       "      <td>0.0</td>\n",
       "      <td>1.0</td>\n",
       "      <td>0.0</td>\n",
       "      <td>0.0</td>\n",
       "      <td>0.0</td>\n",
       "    </tr>\n",
       "    <tr>\n",
       "      <th>1</th>\n",
       "      <td>2.78</td>\n",
       "      <td>2.0</td>\n",
       "      <td>74.0</td>\n",
       "      <td>0.0</td>\n",
       "      <td>369.00</td>\n",
       "      <td>465.0</td>\n",
       "      <td>0.0</td>\n",
       "      <td>1.0</td>\n",
       "      <td>0.0</td>\n",
       "      <td>0.0</td>\n",
       "      <td>0.0</td>\n",
       "    </tr>\n",
       "    <tr>\n",
       "      <th>2</th>\n",
       "      <td>2.79</td>\n",
       "      <td>3.0</td>\n",
       "      <td>74.0</td>\n",
       "      <td>0.0</td>\n",
       "      <td>116.00</td>\n",
       "      <td>591.0</td>\n",
       "      <td>0.0</td>\n",
       "      <td>1.0</td>\n",
       "      <td>0.0</td>\n",
       "      <td>0.0</td>\n",
       "      <td>0.0</td>\n",
       "    </tr>\n",
       "    <tr>\n",
       "      <th>3</th>\n",
       "      <td>3.27</td>\n",
       "      <td>2.0</td>\n",
       "      <td>68.7</td>\n",
       "      <td>1.0</td>\n",
       "      <td>124.58</td>\n",
       "      <td>578.0</td>\n",
       "      <td>0.0</td>\n",
       "      <td>0.0</td>\n",
       "      <td>1.0</td>\n",
       "      <td>0.0</td>\n",
       "      <td>0.0</td>\n",
       "    </tr>\n",
       "    <tr>\n",
       "      <th>4</th>\n",
       "      <td>2.76</td>\n",
       "      <td>2.0</td>\n",
       "      <td>73.3</td>\n",
       "      <td>0.0</td>\n",
       "      <td>158.00</td>\n",
       "      <td>460.0</td>\n",
       "      <td>0.0</td>\n",
       "      <td>1.0</td>\n",
       "      <td>0.0</td>\n",
       "      <td>0.0</td>\n",
       "      <td>0.0</td>\n",
       "    </tr>\n",
       "    <tr>\n",
       "      <th>...</th>\n",
       "      <td>...</td>\n",
       "      <td>...</td>\n",
       "      <td>...</td>\n",
       "      <td>...</td>\n",
       "      <td>...</td>\n",
       "      <td>...</td>\n",
       "      <td>...</td>\n",
       "      <td>...</td>\n",
       "      <td>...</td>\n",
       "      <td>...</td>\n",
       "      <td>...</td>\n",
       "    </tr>\n",
       "    <tr>\n",
       "      <th>649</th>\n",
       "      <td>3.60</td>\n",
       "      <td>1.0</td>\n",
       "      <td>86.7</td>\n",
       "      <td>0.0</td>\n",
       "      <td>61.38</td>\n",
       "      <td>585.0</td>\n",
       "      <td>1.0</td>\n",
       "      <td>1.0</td>\n",
       "      <td>0.0</td>\n",
       "      <td>0.0</td>\n",
       "      <td>0.0</td>\n",
       "    </tr>\n",
       "    <tr>\n",
       "      <th>650</th>\n",
       "      <td>2.74</td>\n",
       "      <td>1.0</td>\n",
       "      <td>79.3</td>\n",
       "      <td>0.0</td>\n",
       "      <td>111.00</td>\n",
       "      <td>474.0</td>\n",
       "      <td>1.0</td>\n",
       "      <td>1.0</td>\n",
       "      <td>0.0</td>\n",
       "      <td>0.0</td>\n",
       "      <td>0.0</td>\n",
       "    </tr>\n",
       "    <tr>\n",
       "      <th>651</th>\n",
       "      <td>3.17</td>\n",
       "      <td>1.0</td>\n",
       "      <td>78.7</td>\n",
       "      <td>0.0</td>\n",
       "      <td>213.00</td>\n",
       "      <td>591.0</td>\n",
       "      <td>1.0</td>\n",
       "      <td>1.0</td>\n",
       "      <td>0.0</td>\n",
       "      <td>0.0</td>\n",
       "      <td>0.0</td>\n",
       "    </tr>\n",
       "    <tr>\n",
       "      <th>652</th>\n",
       "      <td>3.47</td>\n",
       "      <td>1.0</td>\n",
       "      <td>90.0</td>\n",
       "      <td>0.0</td>\n",
       "      <td>59.34</td>\n",
       "      <td>472.0</td>\n",
       "      <td>1.0</td>\n",
       "      <td>1.0</td>\n",
       "      <td>0.0</td>\n",
       "      <td>0.0</td>\n",
       "      <td>0.0</td>\n",
       "    </tr>\n",
       "    <tr>\n",
       "      <th>653</th>\n",
       "      <td>3.33</td>\n",
       "      <td>1.0</td>\n",
       "      <td>88.0</td>\n",
       "      <td>0.0</td>\n",
       "      <td>53.32</td>\n",
       "      <td>473.0</td>\n",
       "      <td>1.0</td>\n",
       "      <td>1.0</td>\n",
       "      <td>0.0</td>\n",
       "      <td>0.0</td>\n",
       "      <td>0.0</td>\n",
       "    </tr>\n",
       "  </tbody>\n",
       "</table>\n",
       "<p>654 rows × 11 columns</p>\n",
       "</div>"
      ],
      "text/plain": [
       "        0    1     2    3       4      5    6    7    8    9   10\n",
       "0    3.29  2.0  77.3  0.0   60.00  591.0  0.0  1.0  0.0  0.0  0.0\n",
       "1    2.78  2.0  74.0  0.0  369.00  465.0  0.0  1.0  0.0  0.0  0.0\n",
       "2    2.79  3.0  74.0  0.0  116.00  591.0  0.0  1.0  0.0  0.0  0.0\n",
       "3    3.27  2.0  68.7  1.0  124.58  578.0  0.0  0.0  1.0  0.0  0.0\n",
       "4    2.76  2.0  73.3  0.0  158.00  460.0  0.0  1.0  0.0  0.0  0.0\n",
       "..    ...  ...   ...  ...     ...    ...  ...  ...  ...  ...  ...\n",
       "649  3.60  1.0  86.7  0.0   61.38  585.0  1.0  1.0  0.0  0.0  0.0\n",
       "650  2.74  1.0  79.3  0.0  111.00  474.0  1.0  1.0  0.0  0.0  0.0\n",
       "651  3.17  1.0  78.7  0.0  213.00  591.0  1.0  1.0  0.0  0.0  0.0\n",
       "652  3.47  1.0  90.0  0.0   59.34  472.0  1.0  1.0  0.0  0.0  0.0\n",
       "653  3.33  1.0  88.0  0.0   53.32  473.0  1.0  1.0  0.0  0.0  0.0\n",
       "\n",
       "[654 rows x 11 columns]"
      ]
     },
     "execution_count": 12,
     "metadata": {},
     "output_type": "execute_result"
    }
   ],
   "source": [
    "result = new_data.values\n",
    "pd.DataFrame(result)"
   ]
  },
  {
   "cell_type": "code",
   "execution_count": 13,
   "metadata": {},
   "outputs": [
    {
     "data": {
      "image/png": "[encoded data removed]",
      "text/plain": [
       "<Figure size 864x432 with 2 Axes>"
      ]
     },
     "metadata": {
      "needs_background": "light"
     },
     "output_type": "display_data"
    }
   ],
   "source": [
    "#plot feature importance\n",
    "\n",
    "feature_importance = rf.feature_importances_\n",
    "sorted_idx = np.argsort(feature_importance)\n",
    "pos = np.arange(sorted_idx.shape[0]) + .5\n",
    "fig = plt.figure(figsize=(12, 6))\n",
    "plt.subplot(1, 2, 1)\n",
    "plt.barh(pos, feature_importance[sorted_idx], align='center')\n",
    "plt.yticks(pos, new_data.columns[sorted_idx])\n",
    "plt.title('Feature Importance (MDI)')\n",
    "\n",
    "result = permutation_importance(rf, X_test, y_test, n_repeats=10,\n",
    "                                random_state=42, n_jobs=2)\n",
    "sorted_idx = result.importances_mean.argsort()\n",
    "plt.subplot(1, 2, 2)\n",
    "plt.boxplot(result.importances[sorted_idx].T,\n",
    "            vert=False, labels= data.columns[sorted_idx])\n",
    "plt.title(\"Permutation Importance (test set)\")\n",
    "fig.tight_layout()\n",
    "plt.show()"
   ]
  },
  {
   "cell_type": "code",
   "execution_count": 14,
   "metadata": {},
   "outputs": [],
   "source": [
    "from sklearn.tree import export_graphviz\n",
    "import graphviz\n",
    "\n",
    "#create, display and export sample tree\n",
    "#clf = tree.DecisionTreeClassifier()\n",
    "#clf = clf.fit(X_train, y_train)\n",
    "#clf.score(X_test, y_test)\n",
    "#dot_data = tree.export_graphviz(clf, out_file=None, \n",
    "#                feature_names = feature_names,\n",
    "#                class_names = target_names,\n",
    "#                rounded = True, proportion = False, \n",
    "#                precision = 2, filled = True)\n",
    "#import pydotplus\n",
    "#graph = pydotplus.graph_from_dot_data(dot_data)\n",
    "#graph.write_png('iris.png')\n",
    "\n",
    "#graph = graphviz.Source(dot_data)  \n",
    "#graph"
   ]
  },
  {
   "cell_type": "code",
   "execution_count": 15,
   "metadata": {},
   "outputs": [],
   "source": [
    "#import os\n",
    "#os.system('dot -Tpng tree.dot -o tree.png')\n"
   ]
  },
  {
   "cell_type": "code",
   "execution_count": 16,
   "metadata": {},
   "outputs": [],
   "source": [
    "#from IPython.display import Image\n",
    "#Image(filename = 'tree.png')"
   ]
  },
  {
   "cell_type": "code",
   "execution_count": 17,
   "metadata": {},
   "outputs": [
    {
     "data": {
      "text/plain": [
       "array([0., 1., 1., 0., 1., 0., 0., 0., 1., 1., 0., 1., 1., 1., 1., 1., 0.,\n",
       "       1., 1., 1., 1., 0., 0., 0., 0., 0., 0., 0., 1., 1., 0., 1., 0., 0.,\n",
       "       0., 0., 1., 0., 0., 1., 0., 1., 1., 1., 1., 1., 1., 0., 1., 1., 0.,\n",
       "       0., 0., 0., 0., 1., 0., 0., 0., 0., 1., 0., 0., 1., 0., 1., 1., 0.,\n",
       "       0., 0., 1., 1., 1., 1., 0., 1., 0., 0., 0., 0., 0., 0., 1., 0., 0.,\n",
       "       1., 0., 1., 1., 0., 0., 0., 0., 0., 1., 1., 0., 0., 0., 0., 1., 1.,\n",
       "       0., 1., 0., 0., 0., 0., 0., 0., 0., 0., 0., 1., 0., 1., 0., 1., 0.,\n",
       "       0., 1., 0., 0., 0., 1., 0., 1., 0., 1., 1., 0., 0., 1., 1., 1., 0.,\n",
       "       0., 1., 1., 1., 1., 0., 0., 0., 1., 1., 1., 0., 1., 1., 0., 1., 1.,\n",
       "       0., 1., 0., 0., 0., 1., 1., 1., 0., 1., 1.])"
      ]
     },
     "execution_count": 17,
     "metadata": {},
     "output_type": "execute_result"
    }
   ],
   "source": [
    "y_predict = rf.predict(X_test)\n",
    "y_predict"
   ]
  },
  {
   "cell_type": "code",
   "execution_count": 18,
   "metadata": {},
   "outputs": [
    {
     "data": {
      "text/plain": [
       "67     0.0\n",
       "575    1.0\n",
       "446    1.0\n",
       "119    0.0\n",
       "381    1.0\n",
       "      ... \n",
       "616    1.0\n",
       "401    1.0\n",
       "93     0.0\n",
       "592    1.0\n",
       "427    1.0\n",
       "Name: GradePass, Length: 164, dtype: float64"
      ]
     },
     "execution_count": 18,
     "metadata": {},
     "output_type": "execute_result"
    }
   ],
   "source": [
    "y_test"
   ]
  },
  {
   "cell_type": "code",
   "execution_count": 19,
   "metadata": {},
   "outputs": [
    {
     "name": "stdout",
     "output_type": "stream",
     "text": [
      "              precision    recall  f1-score   support\n",
      "\n",
      "         0.0       0.74      0.77      0.76        87\n",
      "         1.0       0.73      0.70      0.72        77\n",
      "\n",
      "    accuracy                           0.74       164\n",
      "   macro avg       0.74      0.74      0.74       164\n",
      "weighted avg       0.74      0.74      0.74       164\n",
      "\n"
     ]
    }
   ],
   "source": [
    " # Calculate classification report\n",
    "from sklearn.metrics import classification_report\n",
    "print(classification_report(y_test, y_predict))"
   ]
  },
  {
   "cell_type": "code",
   "execution_count": null,
   "metadata": {},
   "outputs": [],
   "source": []
  }
 ],
 "metadata": {
  "kernelspec": {
   "display_name": "Python 3",
   "language": "python",
   "name": "python3"
  },
  "language_info": {
   "codemirror_mode": {
    "name": "ipython",
    "version": 3
   },
   "file_extension": ".py",
   "mimetype": "text/x-python",
   "name": "python",
   "nbconvert_exporter": "python",
   "pygments_lexer": "ipython3",
   "version": "3.6.10"
  }
 },
 "nbformat": 4,
 "nbformat_minor": 4
}
